{
 "cells": [
  {
   "cell_type": "code",
   "execution_count": 1,
   "metadata": {},
   "outputs": [],
   "source": [
    "import serial\n",
    "import time\n",
    "import struct\n",
    "import math"
   ]
  },
  {
   "cell_type": "code",
   "execution_count": 2,
   "metadata": {},
   "outputs": [],
   "source": [
    "# the configuration of the serial port\n",
    "portName = \"COM3\"\n",
    "BAUD_RATES = 115200 # Unit in bit/s\n",
    "\n",
    "ser = serial.Serial(port = portName,\n",
    "                    baudrate = BAUD_RATES,\n",
    "                    bytesize = serial.EIGHTBITS,\n",
    "                    parity = serial.PARITY_NONE,\n",
    "                    stopbits = serial.STOPBITS_ONE,\n",
    "                    timeout = 5) # Unit in second\n",
    "# ser.flushInput() "
   ]
  },
  {
   "cell_type": "code",
   "execution_count": 3,
   "metadata": {},
   "outputs": [],
   "source": [
    "def read_acc():\n",
    "    readbyte  = 12\n",
    "    data_bin = ser.read(readbyte)\n",
    "    fmt = \"3f\"\n",
    "    data_decode = struct.unpack_from(fmt, data_bin)\n",
    "\n",
    "    logVal = abs(math.log(abs(data_decode[0]), 10)) +\\\n",
    "             abs(math.log(abs(data_decode[1]), 10)) +\\\n",
    "             abs(math.log(abs(data_decode[2]), 10))\n",
    "\n",
    "    if (logVal < 6) and (data_decode[2] > 980.0):\n",
    "        return data_decode"
   ]
  },
  {
   "cell_type": "code",
   "execution_count": 12,
   "metadata": {},
   "outputs": [
    {
     "name": "stdout",
     "output_type": "stream",
     "text": [
      "Number of theoretical sample: 3600.0 \n",
      "Number of real sample: 1242 \n"
     ]
    }
   ],
   "source": [
    "now = time.strftime(\"%Y%m%d%H%M%S\")\n",
    "queryFid = \"acc3_{}.txt\".format(now)\n",
    "\n",
    "timeout = 1 # Unit in second\n",
    "\n",
    "start_time = time.time()\n",
    "sample_num = 0\n",
    "while time.time() < start_time + timeout:\n",
    "    try:\n",
    "        acc_data = read_acc()        \n",
    "        if acc_data != None:\n",
    "            with open(queryFid, \"a\") as file:\n",
    "                for item in acc_data:\n",
    "                    file.write(\"%s,\" % item)\n",
    "                file.write(\"\\n\")\n",
    "                sample_num += 1\n",
    "    except:        \n",
    "        pass\n",
    "print(\"Number of theoretical sample: {} \".format((BAUD_RATES/8/4)*timeout))\n",
    "print(\"Number of real sample: {} \".format(sample_num * 3)) # In 3 axis"
   ]
  },
  {
   "cell_type": "code",
   "execution_count": 103,
   "metadata": {},
   "outputs": [],
   "source": [
    "ser.close()"
   ]
  }
 ],
 "metadata": {
  "kernelspec": {
   "display_name": "Python 3",
   "language": "python",
   "name": "python3"
  },
  "language_info": {
   "codemirror_mode": {
    "name": "ipython",
    "version": 3
   },
   "file_extension": ".py",
   "mimetype": "text/x-python",
   "name": "python",
   "nbconvert_exporter": "python",
   "pygments_lexer": "ipython3",
   "version": "3.6.5"
  }
 },
 "nbformat": 4,
 "nbformat_minor": 2
}
