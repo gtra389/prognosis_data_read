{
 "cells": [
  {
   "cell_type": "code",
   "execution_count": 2,
   "metadata": {},
   "outputs": [],
   "source": [
    "import serial\n",
    "import time\n",
    "import struct\n",
    "import math"
   ]
  },
  {
   "cell_type": "code",
   "execution_count": 6,
   "metadata": {},
   "outputs": [],
   "source": [
    "def read_acc():\n",
    "    readbyte  = 12\n",
    "    data_bin = ser.read(readbyte)\n",
    "    fmt = \"3f\"\n",
    "    data_decode = struct.unpack_from(fmt, data_bin) \n",
    "    logVal = abs(math.log(sum(data_decode), 10))\n",
    "    \n",
    "\n",
    "#     logVal = abs(math.log(abs(data_decode[0]), 10)) +\\\n",
    "#              abs(math.log(abs(data_decode[1]), 10)) +\\\n",
    "#              abs(math.log(abs(data_decode[2]), 10))\n",
    "\n",
    "    if (logVal < 4) and (1200 > data_decode[2] > 980.0):\n",
    "        return data_decode"
   ]
  },
  {
   "cell_type": "code",
   "execution_count": 9,
   "metadata": {},
   "outputs": [
    {
     "name": "stdout",
     "output_type": "stream",
     "text": [
      "Loop Num: 0 ,Sample rate: 0.0 Hz\n",
      "Loop Num: 1 ,Sample rate: 0.0 Hz\n",
      "Loop Num: 2 ,Sample rate: 3968.0 Hz\n",
      "Loop Num: 3 ,Sample rate: 3968.0 Hz\n",
      "Loop Num: 4 ,Sample rate: 3968.0 Hz\n",
      "Loop Num: 5 ,Sample rate: 3968.0 Hz\n",
      "Loop Num: 6 ,Sample rate: 3968.0 Hz\n",
      "Loop Num: 7 ,Sample rate: 1.0 Hz\n",
      "Loop Num: 8 ,Sample rate: 3921.0 Hz\n",
      "Loop Num: 9 ,Sample rate: 0.0 Hz\n",
      "Loop Num: 10 ,Sample rate: 3968.0 Hz\n",
      "Loop Num: 11 ,Sample rate: 3968.0 Hz\n",
      "Loop Num: 12 ,Sample rate: 3968.0 Hz\n",
      "Loop Num: 13 ,Sample rate: 3968.0 Hz\n",
      "Loop Num: 14 ,Sample rate: 3968.0 Hz\n",
      "Loop Num: 15 ,Sample rate: 3968.0 Hz\n",
      "Loop Num: 16 ,Sample rate: 3968.0 Hz\n",
      "Loop Num: 17 ,Sample rate: 3968.0 Hz\n",
      "Loop Num: 18 ,Sample rate: 3968.0 Hz\n",
      "Loop Num: 19 ,Sample rate: 0.0 Hz\n"
     ]
    }
   ],
   "source": [
    "loopNum = 0\n",
    "while loopNum < 20:\n",
    "\n",
    "    # the configuration of the serial port\n",
    "    portName = \"COM3\"\n",
    "    BAUD_RATES = 921600 # Unit in bit/s\n",
    "\n",
    "    ser = serial.Serial(port = portName,\n",
    "                        baudrate = BAUD_RATES,\n",
    "                        bytesize = serial.EIGHTBITS,\n",
    "                        parity = serial.PARITY_NONE,\n",
    "                        stopbits = serial.STOPBITS_ONE,\n",
    "                        timeout = 5) # Unit in second\n",
    "    # ser.flushInput()\n",
    "\n",
    "    timeout = 3 # Unit in second\n",
    "    save_acc = []\n",
    "    start_time = time.time()\n",
    "    sample_num = 0\n",
    "    while time.time() < start_time + timeout:\n",
    "        try:\n",
    "            acc_data = read_acc()        \n",
    "            if acc_data != None:\n",
    "                save_acc.append(list(acc_data))\n",
    "                sample_num += 1\n",
    "        except:        \n",
    "            pass\n",
    "        \n",
    "#     now = time.strftime(\"%Y%m%d%H%M%S\")\n",
    "#     queryFid = \"acc3_{}.txt\".format(now)\n",
    "#     with open(queryFid, \"a\") as file:\n",
    "#         for items in save_acc:\n",
    "#             for item in items:\n",
    "#                 file.write(\"%s,\" % item)\n",
    "#             file.write(\"\\n\")\n",
    "\n",
    "    # print(\"Number of theoretical sample: {} \".format(int(BAUD_RATES/8/4)*timeout))\n",
    "    print(\"Loop Num: {} ,Sample rate: {} Hz\".format(loopNum, sample_num * 3 / timeout)) # In 3 axis\n",
    "    loopNum += 1\n",
    "    \n",
    "    ser.flushInput()\n",
    "    ser.close()\n"
   ]
  }
 ],
 "metadata": {
  "kernelspec": {
   "display_name": "Python 3",
   "language": "python",
   "name": "python3"
  },
  "language_info": {
   "codemirror_mode": {
    "name": "ipython",
    "version": 3
   },
   "file_extension": ".py",
   "mimetype": "text/x-python",
   "name": "python",
   "nbconvert_exporter": "python",
   "pygments_lexer": "ipython3",
   "version": "3.6.5"
  }
 },
 "nbformat": 4,
 "nbformat_minor": 2
}
